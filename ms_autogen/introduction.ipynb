{
 "cells": [
  {
   "cell_type": "code",
   "execution_count": 1,
   "metadata": {},
   "outputs": [
    {
     "name": "stdout",
     "output_type": "stream",
     "text": [
      "Requirement already satisfied: pyautogen in /Users/rvvivier/anaconda3/envs/local_dev2/lib/python3.11/site-packages (from -r requirements.txt (line 1)) (0.2.26)\n",
      "Requirement already satisfied: anthropic>=0.23.1 in /Users/rvvivier/anaconda3/envs/local_dev2/lib/python3.11/site-packages (from -r requirements.txt (line 2)) (0.25.6)\n",
      "Requirement already satisfied: diskcache in /Users/rvvivier/anaconda3/envs/local_dev2/lib/python3.11/site-packages (from pyautogen->-r requirements.txt (line 1)) (5.6.3)\n",
      "Requirement already satisfied: docker in /Users/rvvivier/anaconda3/envs/local_dev2/lib/python3.11/site-packages (from pyautogen->-r requirements.txt (line 1)) (7.0.0)\n",
      "Requirement already satisfied: flaml in /Users/rvvivier/anaconda3/envs/local_dev2/lib/python3.11/site-packages (from pyautogen->-r requirements.txt (line 1)) (2.1.2)\n",
      "Requirement already satisfied: numpy<2,>=1.17.0 in /Users/rvvivier/anaconda3/envs/local_dev2/lib/python3.11/site-packages (from pyautogen->-r requirements.txt (line 1)) (1.26.4)\n",
      "Requirement already satisfied: openai<1.21,>=1.3 in /Users/rvvivier/anaconda3/envs/local_dev2/lib/python3.11/site-packages (from pyautogen->-r requirements.txt (line 1)) (1.20.0)\n",
      "Requirement already satisfied: pydantic!=2.6.0,<3,>=1.10 in /Users/rvvivier/anaconda3/envs/local_dev2/lib/python3.11/site-packages (from pyautogen->-r requirements.txt (line 1)) (2.6.4)\n",
      "Requirement already satisfied: python-dotenv in /Users/rvvivier/anaconda3/envs/local_dev2/lib/python3.11/site-packages (from pyautogen->-r requirements.txt (line 1)) (1.0.1)\n",
      "Requirement already satisfied: termcolor in /Users/rvvivier/anaconda3/envs/local_dev2/lib/python3.11/site-packages (from pyautogen->-r requirements.txt (line 1)) (2.4.0)\n",
      "Requirement already satisfied: tiktoken in /Users/rvvivier/anaconda3/envs/local_dev2/lib/python3.11/site-packages (from pyautogen->-r requirements.txt (line 1)) (0.6.0)\n",
      "Requirement already satisfied: anyio<5,>=3.5.0 in /Users/rvvivier/anaconda3/envs/local_dev2/lib/python3.11/site-packages (from anthropic>=0.23.1->-r requirements.txt (line 2)) (4.3.0)\n",
      "Requirement already satisfied: distro<2,>=1.7.0 in /Users/rvvivier/anaconda3/envs/local_dev2/lib/python3.11/site-packages (from anthropic>=0.23.1->-r requirements.txt (line 2)) (1.9.0)\n",
      "Requirement already satisfied: httpx<1,>=0.23.0 in /Users/rvvivier/anaconda3/envs/local_dev2/lib/python3.11/site-packages (from anthropic>=0.23.1->-r requirements.txt (line 2)) (0.27.0)\n",
      "Requirement already satisfied: sniffio in /Users/rvvivier/anaconda3/envs/local_dev2/lib/python3.11/site-packages (from anthropic>=0.23.1->-r requirements.txt (line 2)) (1.3.1)\n",
      "Requirement already satisfied: tokenizers>=0.13.0 in /Users/rvvivier/anaconda3/envs/local_dev2/lib/python3.11/site-packages (from anthropic>=0.23.1->-r requirements.txt (line 2)) (0.19.1)\n",
      "Requirement already satisfied: typing-extensions<5,>=4.7 in /Users/rvvivier/anaconda3/envs/local_dev2/lib/python3.11/site-packages (from anthropic>=0.23.1->-r requirements.txt (line 2)) (4.10.0)\n",
      "Requirement already satisfied: idna>=2.8 in /Users/rvvivier/anaconda3/envs/local_dev2/lib/python3.11/site-packages (from anyio<5,>=3.5.0->anthropic>=0.23.1->-r requirements.txt (line 2)) (3.6)\n",
      "Requirement already satisfied: certifi in /Users/rvvivier/anaconda3/envs/local_dev2/lib/python3.11/site-packages (from httpx<1,>=0.23.0->anthropic>=0.23.1->-r requirements.txt (line 2)) (2024.2.2)\n",
      "Requirement already satisfied: httpcore==1.* in /Users/rvvivier/anaconda3/envs/local_dev2/lib/python3.11/site-packages (from httpx<1,>=0.23.0->anthropic>=0.23.1->-r requirements.txt (line 2)) (1.0.5)\n",
      "Requirement already satisfied: h11<0.15,>=0.13 in /Users/rvvivier/anaconda3/envs/local_dev2/lib/python3.11/site-packages (from httpcore==1.*->httpx<1,>=0.23.0->anthropic>=0.23.1->-r requirements.txt (line 2)) (0.14.0)\n",
      "Requirement already satisfied: tqdm>4 in /Users/rvvivier/anaconda3/envs/local_dev2/lib/python3.11/site-packages (from openai<1.21,>=1.3->pyautogen->-r requirements.txt (line 1)) (4.66.2)\n",
      "Requirement already satisfied: annotated-types>=0.4.0 in /Users/rvvivier/anaconda3/envs/local_dev2/lib/python3.11/site-packages (from pydantic!=2.6.0,<3,>=1.10->pyautogen->-r requirements.txt (line 1)) (0.6.0)\n",
      "Requirement already satisfied: pydantic-core==2.16.3 in /Users/rvvivier/anaconda3/envs/local_dev2/lib/python3.11/site-packages (from pydantic!=2.6.0,<3,>=1.10->pyautogen->-r requirements.txt (line 1)) (2.16.3)\n",
      "Requirement already satisfied: huggingface-hub<1.0,>=0.16.4 in /Users/rvvivier/anaconda3/envs/local_dev2/lib/python3.11/site-packages (from tokenizers>=0.13.0->anthropic>=0.23.1->-r requirements.txt (line 2)) (0.22.2)\n",
      "Requirement already satisfied: packaging>=14.0 in /Users/rvvivier/anaconda3/envs/local_dev2/lib/python3.11/site-packages (from docker->pyautogen->-r requirements.txt (line 1)) (23.2)\n",
      "Requirement already satisfied: requests>=2.26.0 in /Users/rvvivier/anaconda3/envs/local_dev2/lib/python3.11/site-packages (from docker->pyautogen->-r requirements.txt (line 1)) (2.31.0)\n",
      "Requirement already satisfied: urllib3>=1.26.0 in /Users/rvvivier/anaconda3/envs/local_dev2/lib/python3.11/site-packages (from docker->pyautogen->-r requirements.txt (line 1)) (2.2.1)\n",
      "Requirement already satisfied: regex>=2022.1.18 in /Users/rvvivier/anaconda3/envs/local_dev2/lib/python3.11/site-packages (from tiktoken->pyautogen->-r requirements.txt (line 1)) (2024.4.16)\n",
      "Requirement already satisfied: filelock in /Users/rvvivier/anaconda3/envs/local_dev2/lib/python3.11/site-packages (from huggingface-hub<1.0,>=0.16.4->tokenizers>=0.13.0->anthropic>=0.23.1->-r requirements.txt (line 2)) (3.13.4)\n",
      "Requirement already satisfied: fsspec>=2023.5.0 in /Users/rvvivier/anaconda3/envs/local_dev2/lib/python3.11/site-packages (from huggingface-hub<1.0,>=0.16.4->tokenizers>=0.13.0->anthropic>=0.23.1->-r requirements.txt (line 2)) (2024.3.1)\n",
      "Requirement already satisfied: pyyaml>=5.1 in /Users/rvvivier/anaconda3/envs/local_dev2/lib/python3.11/site-packages (from huggingface-hub<1.0,>=0.16.4->tokenizers>=0.13.0->anthropic>=0.23.1->-r requirements.txt (line 2)) (6.0.1)\n",
      "Requirement already satisfied: charset-normalizer<4,>=2 in /Users/rvvivier/anaconda3/envs/local_dev2/lib/python3.11/site-packages (from requests>=2.26.0->docker->pyautogen->-r requirements.txt (line 1)) (3.3.2)\n"
     ]
    }
   ],
   "source": [
    "!pip install -r requirements.txt"
   ]
  },
  {
   "cell_type": "code",
   "execution_count": 16,
   "metadata": {},
   "outputs": [],
   "source": [
    "import sys\n",
    "sys.path.append(\"lib/src/\")\n",
    "from autogen_utils import AnthropicClient\n",
    "\n",
    "config_list_claude = [\n",
    "    {\n",
    "        \"model\": \"anthropic.claude-3-sonnet-20240229-v1:0\",\n",
    "        \"api_type\": \"anthropic\",\n",
    "        \"model_client_cls\": \"AnthropicClient\",\n",
    "        \"cache_seed\" : None, #we deactivate the cache on purpose\n",
    "    }\n",
    "]\n",
    "\n",
    "#see below the 2 main modifications that we have to include into the code to make that Anthropic wrapper work in the code\n",
    "\n",
    "#llm_config={\"config_list\": config_list_claude}\n",
    "#agent.register_model_client(model_client_cls=AnthropicClient)"
   ]
  },
  {
   "cell_type": "markdown",
   "metadata": {},
   "source": [
    "# Introduction to AutoGen\n",
    "\n",
    "Welcome! AutoGen is an open-source framework that leverages multiple _agents_ to enable complex workflows. This tutorial introduces basic concepts and building blocks of AutoGen."
   ]
  },
  {
   "cell_type": "markdown",
   "metadata": {},
   "source": [
    "## Why AutoGen?\n",
    "\n",
    "> _The whole is greater than the sum of its parts._<br/>\n",
    "> -**Aristotle**\n",
    "\n",
    "While there are many definitions of agents, in AutoGen, an agent is an entity that can send messages, receive messages and generate a reply using models, tools, human inputs or a mixture of them.\n",
    "This abstraction not only allows agents to model real-world and abstract entities, such as people and algorithms, but it also simplifies implementation of complex workflows as collaboration among agents.\n",
    "\n",
    "Further, AutoGen is extensible and composable: you can extend a simple agent with customizable components and create workflows that can combine these agents and power a more sophisticated agent, resulting in implementations that are modular and easy to maintain.\n",
    "\n",
    "Most importantly, AutoGen is developed by a vibrant community of researchers\n",
    "and engineers. It incorporates the latest research in multi-agent systems\n",
    "and has been used in many real-world applications, including agent platform,\n",
    "advertising, AI employees, blog/article writing, blockchain, calculate burned areas by wildfires,\n",
    "customer support, cybersecurity, data analytics, debate, education, finance, gaming, legal consultation,\n",
    "research, robotics, sales/marketing, social simulation, software engineering,\n",
    "software security, supply chain, t-shirt design, training data generation, Youtube service..."
   ]
  },
  {
   "cell_type": "markdown",
   "metadata": {},
   "source": [
    "## Installation\n",
    "\n",
    "The simplest way to install AutoGen is from pip: `pip install pyautogen`. Find more options in [Installation](/docs/installation/)."
   ]
  },
  {
   "cell_type": "markdown",
   "metadata": {},
   "source": [
    "## Agents\n",
    "\n",
    "In AutoGen, an agent is an entity that can send and receive messages to and from\n",
    "other agents in its environment. An agent can be powered by models (such as a large language model\n",
    "like GPT-4), code executors (such as an IPython kernel), human, or a combination of these\n",
    "and other pluggable and customizable components.\n",
    "\n",
    "```{=mdx}\n",
    "![ConversableAgent](./assets/conversable-agent.jpg)\n",
    "```\n",
    "\n",
    "An example of such agents is the built-in `ConversableAgent` which supports the following components:\n",
    "\n",
    "1. A list of LLMs\n",
    "2. A code executor\n",
    "3. A function and tool executor\n",
    "4. A component for keeping human-in-the-loop\n",
    "\n",
    "You can switch each component on or off and customize it to suit the need of \n",
    "your application. For advanced users, you can add additional components to the agent\n",
    "by using [`registered_reply`](../reference/agentchat/conversable_agent/#register_reply). "
   ]
  },
  {
   "cell_type": "markdown",
   "metadata": {},
   "source": [
    "LLMs, for example, enable agents to converse in natural languages and transform between structured and unstructured text. \n",
    "The following example shows a `ConversableAgent` with a GPT-4 LLM switched on and other\n",
    "components switched off:"
   ]
  },
  {
   "cell_type": "code",
   "execution_count": 17,
   "metadata": {},
   "outputs": [
    {
     "name": "stdout",
     "output_type": "stream",
     "text": [
      "[autogen.oai.client: 04-26 17:00:09] {426} INFO - Detected custom model client in config: AnthropicClient, model client can not be used until register_model_client is called.\n"
     ]
    }
   ],
   "source": [
    "import os\n",
    "\n",
    "from autogen import ConversableAgent\n",
    "\n",
    "agent = ConversableAgent(\n",
    "    \"chatbot\",\n",
    "    llm_config={\"config_list\": config_list_claude},\n",
    "    code_execution_config=False,  # Turn off code execution, by default it is off.\n",
    "    function_map=None,  # No registered functions, by default it is None.\n",
    "    human_input_mode=\"NEVER\",  # Never ask for human input.\n",
    ")\n",
    "\n",
    "#added\n",
    "agent.register_model_client(model_client_cls=AnthropicClient)"
   ]
  },
  {
   "cell_type": "markdown",
   "metadata": {},
   "source": [
    "The `llm_config` argument contains a list of configurations for the LLMs.\n",
    "See [LLM Configuration](/docs/topics/llm_configuration) for more details."
   ]
  },
  {
   "cell_type": "markdown",
   "metadata": {},
   "source": [
    "You can ask this agent to generate a response to a question using the `generate_reply` method:"
   ]
  },
  {
   "cell_type": "code",
   "execution_count": 18,
   "metadata": {},
   "outputs": [
    {
     "name": "stdout",
     "output_type": "stream",
     "text": [
      "Here's a silly joke for you:\n",
      "\n",
      "Why can't a bicycle stand up by itself?\n",
      "It's two-tired!\n"
     ]
    }
   ],
   "source": [
    "reply = agent.generate_reply(messages=[{\"content\": \"Tell me a joke.\", \"role\": \"user\"}])\n",
    "print(reply)"
   ]
  },
  {
   "cell_type": "markdown",
   "metadata": {},
   "source": [
    "## Roles and Conversations\n",
    "\n",
    "In AutoGen, you can assign roles to agents and have them participate in conversations or chat with each other. A conversation is a sequence of messages exchanged between agents. You can then use these conversations to make progress on a task. For example, in the example below, we assign different roles to two agents by setting their\n",
    "`system_message`."
   ]
  },
  {
   "cell_type": "code",
   "execution_count": 19,
   "metadata": {},
   "outputs": [
    {
     "name": "stdout",
     "output_type": "stream",
     "text": [
      "[autogen.oai.client: 04-26 17:00:16] {426} INFO - Detected custom model client in config: AnthropicClient, model client can not be used until register_model_client is called.\n",
      "[autogen.oai.client: 04-26 17:00:16] {426} INFO - Detected custom model client in config: AnthropicClient, model client can not be used until register_model_client is called.\n"
     ]
    }
   ],
   "source": [
    "cathy = ConversableAgent(\n",
    "    \"cathy\",\n",
    "    system_message=\"Your name is Cathy and you are a part of a duo of comedians.\",\n",
    "    llm_config={\"config_list\": config_list_claude},\n",
    "    human_input_mode=\"NEVER\",  # Never ask for human input.\n",
    ")\n",
    "\n",
    "joe = ConversableAgent(\n",
    "    \"joe\",\n",
    "    system_message=\"Your name is Joe and you are a part of a duo of comedians.\",\n",
    "    llm_config={\"config_list\": config_list_claude},\n",
    "    human_input_mode=\"NEVER\",  # Never ask for human input.\n",
    ")"
   ]
  },
  {
   "cell_type": "code",
   "execution_count": 20,
   "metadata": {},
   "outputs": [],
   "source": [
    "#added\n",
    "cathy.register_model_client(model_client_cls=AnthropicClient)\n",
    "joe.register_model_client(model_client_cls=AnthropicClient)"
   ]
  },
  {
   "cell_type": "markdown",
   "metadata": {},
   "source": [
    "Now that we have two comedian agents, we can ask them to start a comedy show.\n",
    "This can be done using the `initiate_chat` method.\n",
    "We set the `max_turns` to 2 to keep the conversation short."
   ]
  },
  {
   "cell_type": "code",
   "execution_count": 21,
   "metadata": {},
   "outputs": [
    {
     "name": "stdout",
     "output_type": "stream",
     "text": [
      "\u001b[33mjoe\u001b[0m (to cathy):\n",
      "\n",
      "Cathy, tell me a joke.\n",
      "\n",
      "--------------------------------------------------------------------------------\n",
      "\u001b[33mcathy\u001b[0m (to joe):\n",
      "\n",
      "*clears throat and affects a comedic persona* Okay, here's a joke for you! Why can't a bicycle stand up by itself? It's two-tired! *waits for a reaction, laughing at my own joke* Get it? Too tired? Like a bicycle has two tires? Oh boy, I really am a comedic genius, aren't I? Thank you, thank you, I'll be here all week!\n",
      "\n",
      "--------------------------------------------------------------------------------\n",
      "\u001b[33mjoe\u001b[0m (to cathy):\n",
      "\n",
      "*laughs heartily* Joe, you always crack me up with your brilliant bike puns! Two-tired, I love it! The delivery was perfect too. You're right, we better watch out or they'll have to rename this comedy duo \"The Laugh Riots\" after performances like that! Keep those knee-slappers coming, I can barely stand up from laughing so hard! *wipes away a tear of laughter* Ah, what would I do without your sparkling wit to brighten my day? You're a real rib-tickler, that's for sure!\n",
      "\n",
      "--------------------------------------------------------------------------------\n",
      "\u001b[33mcathy\u001b[0m (to joe):\n",
      "\n",
      "*laughing uproariously, playing along with the banter* Aw shucks, you're too kind Cathy! I'm just a humble pun-slinger trying to bring some smiles to this dreary world. Though with you as my partner, keeping folks in stitches is a piece of cake! We make quite the comedic pair, don't we? The audience won't know what hit 'em when we take the stage - it'll be nothing but gut-busting hilarity!\n",
      "\n",
      "*affects an exaggerated serious tone* But you know, all jokes aside, I really do fancy myself a purveyor of the highest caliber of humor. I spend hours meditating on the perfect pun, the ideal bit of wit to slay the crowd. Why, humor is an art form, my dear, and we are but its ungainly sculptors, chiseling away at the drab rock of life to reveal the laughter beneath! *breaks character, grinning* But who am I kidding? We're just a couple of goofballs trying to make people giggle. And you know what? I wouldn't have it any other way! Comedy is the spice of life - and with you by my side, that spice will never lose its kick!\n",
      "\n",
      "--------------------------------------------------------------------------------\n"
     ]
    }
   ],
   "source": [
    "result = joe.initiate_chat(cathy, message=\"Cathy, tell me a joke.\", max_turns=2)"
   ]
  },
  {
   "cell_type": "markdown",
   "metadata": {},
   "source": [
    "The comedians are bouncing off each other!"
   ]
  },
  {
   "cell_type": "markdown",
   "metadata": {},
   "source": [
    "## Summary\n",
    "\n",
    "In this chapter, we introduced the concept of agents, roles and conversations in AutoGen.\n",
    "For simplicity, we only used LLMs and created fully autonomous agents (`human_input_mode` was set to `NEVER`). \n",
    "In the next chapter, \n",
    "we will show how you can control when to _terminate_ a conversation between autonomous agents."
   ]
  }
 ],
 "metadata": {
  "kernelspec": {
   "display_name": "autogen",
   "language": "python",
   "name": "python3"
  },
  "language_info": {
   "codemirror_mode": {
    "name": "ipython",
    "version": 3
   },
   "file_extension": ".py",
   "mimetype": "text/x-python",
   "name": "python",
   "nbconvert_exporter": "python",
   "pygments_lexer": "ipython3",
   "version": "3.11.5"
  }
 },
 "nbformat": 4,
 "nbformat_minor": 2
}
