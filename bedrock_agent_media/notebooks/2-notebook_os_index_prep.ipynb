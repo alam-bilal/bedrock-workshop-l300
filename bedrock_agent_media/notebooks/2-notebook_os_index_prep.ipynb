{
 "cells": [
  {
   "cell_type": "code",
   "execution_count": 1,
   "metadata": {},
   "outputs": [],
   "source": [
    "#make sure to run pip install requirements.txt to install libraries if you haven't already done so.\n",
    "!pip install -r requirements.txt --quiet"
   ]
  },
  {
   "cell_type": "code",
   "execution_count": 2,
   "metadata": {},
   "outputs": [
    {
     "name": "stdout",
     "output_type": "stream",
     "text": [
      "sagemaker.config INFO - Not applying SDK defaults from location: /Library/Application Support/sagemaker/config.yaml\n",
      "sagemaker.config INFO - Not applying SDK defaults from location: /Users/rvvivier/Library/Application Support/sagemaker/config.yaml\n"
     ]
    }
   ],
   "source": [
    "import boto3\n",
    "import sagemaker\n",
    "import json\n",
    "import pprint as pp\n",
    "import os\n",
    "import shutil\n",
    "import csv\n",
    "import time\n",
    "\n",
    "from opensearchpy import (\n",
    "    AWSV4SignerAuth\n",
    ")\n",
    "\n",
    "#adding our utils library to sys path\n",
    "import sys\n",
    "sys.path.append(\"../lib/src/utils/\")\n",
    "import llm_utils\n",
    "\n",
    "#to uncomment if you've modified llm_utils and need to refresh its content\n",
    "#from importlib import reload\n",
    "#reload(llm_utils)"
   ]
  },
  {
   "cell_type": "markdown",
   "metadata": {},
   "source": [
    "## Pre-requisites\n",
    "\n",
    "Prior to going through this workshop you need to deploy the opensearch stack cdk to deploy the collection and the required policies.\n",
    "\n",
    "We however need to add the execution role that you're using to run this notebook to the data access policy."
   ]
  },
  {
   "cell_type": "code",
   "execution_count": 3,
   "metadata": {},
   "outputs": [],
   "source": [
    "# serverless collection endpoint, without https://\n",
    "#This would have been created from the execution of the CDK scrips in the os_cdk folder.\n",
    "os_host = \"xxxxxxxxxxxx.us-east-1.aoss.amazonaws.com\"\n",
    "\n",
    "# e.g. us-east-1\n",
    "REGION = 'us-east-1'"
   ]
  },
  {
   "cell_type": "markdown",
   "metadata": {},
   "source": [
    "### Get current role/identity\n",
    "\n",
    "First we identify the current identity. it might be an execution role if you're using sagemaker or a user if you're using visual studio with the AWS CLI plugin"
   ]
  },
  {
   "cell_type": "code",
   "execution_count": 4,
   "metadata": {},
   "outputs": [
    {
     "name": "stderr",
     "output_type": "stream",
     "text": [
      "2024-05-28 21:06:48,991 - botocore.credentials - Found credentials in shared credentials file: ~/.aws/credentials\n",
      "2024-05-28 21:06:51,183 - sagemaker - Couldn't call 'get_role' to get Role ARN from role name cdk to get Role path.\n",
      "2024-05-28 21:06:51,191 - botocore.credentials - Found credentials in shared credentials file: ~/.aws/credentials\n"
     ]
    },
    {
     "name": "stdout",
     "output_type": "stream",
     "text": [
      "Not a sagemaker role, trying to retrieve the user identity\n",
      "Identity ARN:arn:aws:iam::327216439222:user/cdk\n"
     ]
    }
   ],
   "source": [
    "identity_arn = \"\"\n",
    "\n",
    "try:\n",
    "    # Get the execution role ARN\n",
    "    identity_arn = sagemaker.get_execution_role()\n",
    "    \n",
    "except Exception as e:\n",
    "    print(\"Not a sagemaker role, trying to retrieve the user identity\")\n",
    "    # Create an STS client\n",
    "    sts_client = boto3.client('sts')\n",
    "\n",
    "    # Get the caller identity\n",
    "    caller_identity = sts_client.get_caller_identity()\n",
    "    identity_arn = caller_identity['Arn']\n",
    "\n",
    "print(f\"Identity ARN:{identity_arn}\")\n"
   ]
  },
  {
   "cell_type": "markdown",
   "metadata": {},
   "source": [
    "### Data Access Policy creation for opensearch\n",
    "\n",
    "Note that a data policy has already been created via the cdk. we create a new one to attach the notebook's execution role or user in case it differs from the one which was used to deploy the CDK."
   ]
  },
  {
   "cell_type": "code",
   "execution_count": 6,
   "metadata": {},
   "outputs": [
    {
     "name": "stdout",
     "output_type": "stream",
     "text": [
      "{'accessPolicyDetail': {'createdDate': 1716894459886, 'description': 'Data access policy for semantic search collection', 'lastModifiedDate': 1716894459886, 'name': 'semantic-search-policy-notebook', 'policy': [{'Rules': [{'Resource': ['collection/semantic-search'], 'Permission': ['aoss:CreateCollectionItems', 'aoss:DeleteCollectionItems', 'aoss:UpdateCollectionItems', 'aoss:DescribeCollectionItems'], 'ResourceType': 'collection'}, {'Resource': ['index/semantic-search/*'], 'Permission': ['aoss:CreateIndex', 'aoss:DeleteIndex', 'aoss:UpdateIndex', 'aoss:DescribeIndex', 'aoss:ReadDocument', 'aoss:WriteDocument'], 'ResourceType': 'index'}], 'Principal': ['arn:aws:iam::327216439222:user/cdk'], 'Description': 'data-access-rule'}], 'policyVersion': 'MTcxNjg5NDQ1OTg4Nl8x', 'type': 'data'}, 'ResponseMetadata': {'RequestId': '78f450a8-5de7-4cc7-aac8-2534f2172162', 'HTTPStatusCode': 200, 'HTTPHeaders': {'x-amzn-requestid': '78f450a8-5de7-4cc7-aac8-2534f2172162', 'date': 'Tue, 28 May 2024 11:07:39 GMT', 'content-type': 'application/x-amz-json-1.0', 'content-length': '755', 'connection': 'keep-alive'}, 'RetryAttempts': 0}}\n"
     ]
    }
   ],
   "source": [
    "collection_name = \"semantic-search\"\n",
    "\n",
    "# Create an OpenSearch Serverless client\n",
    "opss_client = boto3.client('opensearchserverless')\n",
    "\n",
    "data_access_policy = json.dumps([\n",
    "      {\n",
    "        \"Rules\": [\n",
    "          {\n",
    "            \"Resource\": [\n",
    "              f\"collection/{collection_name}\"\n",
    "            ],\n",
    "            \"Permission\": [\n",
    "              \"aoss:CreateCollectionItems\",\n",
    "              \"aoss:DeleteCollectionItems\",\n",
    "              \"aoss:UpdateCollectionItems\",\n",
    "              \"aoss:DescribeCollectionItems\"\n",
    "            ],\n",
    "            \"ResourceType\": \"collection\"\n",
    "          },\n",
    "          {\n",
    "            \"Resource\": [\n",
    "              f\"index/{collection_name}/*\"\n",
    "            ],\n",
    "            \"Permission\": [\n",
    "              \"aoss:CreateIndex\",\n",
    "              \"aoss:DeleteIndex\",\n",
    "              \"aoss:UpdateIndex\",\n",
    "              \"aoss:DescribeIndex\",\n",
    "              \"aoss:ReadDocument\",\n",
    "              \"aoss:WriteDocument\"\n",
    "            ],\n",
    "            \"ResourceType\": \"index\"\n",
    "          }\n",
    "        ],\n",
    "        \"Principal\": [\n",
    "          identity_arn\n",
    "        ],\n",
    "        \"Description\": \"data-access-rule\"\n",
    "      }\n",
    "    ], indent=2)\n",
    "\n",
    "data_access_policy_name = f\"{collection_name}-policy-notebook\"\n",
    "\n",
    "# Create the data access policy\n",
    "response = opss_client.create_access_policy(\n",
    "    clientToken='unique-token-123',\n",
    "    description='Data access policy for semantic search collection',\n",
    "    name=data_access_policy_name,\n",
    "    policy=str(data_access_policy),\n",
    "    type='data'\n",
    ")\n",
    "\n",
    "print(response)"
   ]
  },
  {
   "cell_type": "markdown",
   "metadata": {},
   "source": [
    "## Create semantic search engine with Amazon OpenSearch Service Serverless"
   ]
  },
  {
   "cell_type": "markdown",
   "metadata": {},
   "source": [
    "### Opensearch data access policy update\n",
    "\n",
    "To access our opensearch serverless collection, we need to update its data policy update with the current user"
   ]
  },
  {
   "cell_type": "code",
   "execution_count": 7,
   "metadata": {},
   "outputs": [
    {
     "name": "stderr",
     "output_type": "stream",
     "text": [
      "2024-05-28 21:08:21,224 - botocore.credentials - Found credentials in shared credentials file: ~/.aws/credentials\n"
     ]
    }
   ],
   "source": [
    "#opensearch serverless service, aka aoss\n",
    "service = 'aoss'\n",
    "\n",
    "#get an Auth object to call aoss\n",
    "credentials = boto3.Session().get_credentials()\n",
    "auth = AWSV4SignerAuth(credentials, REGION, service)\n",
    "\n",
    "#LLMUtils.connect_to_aoss() can be found in lib/src/utils/ folder.\n",
    "aoss_client = llm_utils.connect_to_aoss(auth, os_host)\n"
   ]
  },
  {
   "cell_type": "markdown",
   "metadata": {},
   "source": [
    "### Create OpenSearch index\n",
    "\n"
   ]
  },
  {
   "cell_type": "code",
   "execution_count": 8,
   "metadata": {},
   "outputs": [],
   "source": [
    "#opensearch index name\n",
    "index_name = \"movies-index\"\n",
    "\n",
    "#data column to add to the index\n",
    "data_columns = ['tmdb_id', 'original_language', 'original_title', 'description', 'genres', 'year', 'keywords', 'director', 'actors', 'popularity', 'popularity_bins',\n",
    "                  'vote_average', 'vote_average_bins']"
   ]
  },
  {
   "cell_type": "code",
   "execution_count": 9,
   "metadata": {},
   "outputs": [],
   "source": [
    "#to delete the index, uncomment the below line. useful if you're re-running the notebook several times.\n",
    "#aoss_client.indices.delete(index=index_name)"
   ]
  },
  {
   "cell_type": "code",
   "execution_count": 10,
   "metadata": {},
   "outputs": [],
   "source": [
    "#index configuration. note that we're adding both text metadata as well as the vector_index property that will be storing our embedding for each title.\n",
    "# For additional information on the K-NN index configuration, please read the below documentation.\n",
    "#https://opensearch.org/docs/latest/field-types/supported-field-types/knn-vector/\n",
    "#https://opensearch.org/docs/latest/search-plugins/knn/knn-index/\n",
    "\n",
    "index_body = {\n",
    "  \"settings\": {\n",
    "    \"index\": {\n",
    "      'number_of_shards': 4,\n",
    "      \"number_of_replicas\": 0,\n",
    "      \"knn\": True,\n",
    "      \"knn.algo_param.ef_search\": 100\n",
    "    }\n",
    "  },\n",
    "  \"mappings\": {\n",
    "    \"properties\": {\n",
    "      \"tmdb_id\": {\"type\": \"integer\"},\n",
    "      \"original_language\": {\"type\": \"text\"},\n",
    "      \"original_title\": {\"type\": \"text\"},\n",
    "      \"description\": {\"type\": \"text\"},\n",
    "      \"genres\": {\"type\": \"text\"},\n",
    "      \"year\": {\"type\": \"integer\"},\n",
    "      \"keywords\": {\"type\": \"text\"},\n",
    "      \"director\": {\"type\": \"text\"},\n",
    "      \"actors\": {\"type\": \"text\"},\n",
    "      \"popularity\": {\"type\": \"float\"},\n",
    "      \"popularity_bins\": {\"type\": \"text\"},\n",
    "      \"vote_average\": {\"type\": \"float\"},\n",
    "      \"vote_average_bins\": {\"type\": \"text\"},\n",
    "      \"vector_index\": {\n",
    "        \"type\": \"knn_vector\",\n",
    "        \"dimension\": 1024, #if you use cohere: dimension of the embedding is 1024, for titan: 1536\n",
    "        \"method\": {\n",
    "          \"name\": \"hnsw\",\n",
    "          \"space_type\": \"l2\",\n",
    "          \"engine\": \"nmslib\",\n",
    "          \"parameters\": {\n",
    "            \"ef_construction\": 512,\n",
    "            \"m\": 16\n",
    "          }\n",
    "        }\n",
    "      }\n",
    "    }\n",
    "  }\n",
    "}"
   ]
  },
  {
   "cell_type": "code",
   "execution_count": 11,
   "metadata": {},
   "outputs": [
    {
     "name": "stderr",
     "output_type": "stream",
     "text": [
      "2024-05-28 21:08:31,975 - opensearch - GET https://af2ehh1ncpwbbkxhvb0b.us-east-1.aoss.amazonaws.com:443/*/_alias [status:200 request:0.943s]\n"
     ]
    }
   ],
   "source": [
    "#get a list of the indexes already existing\n",
    "indexes = aoss_client.indices.get_alias(\"*\")\n",
    "indexes_list = list(indexes.keys())"
   ]
  },
  {
   "cell_type": "code",
   "execution_count": 12,
   "metadata": {},
   "outputs": [
    {
     "name": "stdout",
     "output_type": "stream",
     "text": [
      "Creating index:\n",
      "\n"
     ]
    },
    {
     "name": "stderr",
     "output_type": "stream",
     "text": [
      "2024-05-28 21:08:33,775 - opensearch - PUT https://af2ehh1ncpwbbkxhvb0b.us-east-1.aoss.amazonaws.com:443/movies-index [status:200 request:0.818s]\n"
     ]
    },
    {
     "name": "stdout",
     "output_type": "stream",
     "text": [
      "{'acknowledged': True, 'shards_acknowledged': True, 'index': 'movies-index'}\n"
     ]
    }
   ],
   "source": [
    "#check if index doesn't already exist and create it\n",
    "if index_name not in indexes_list:\n",
    "    print('Creating index:\\n')\n",
    "    create_response = aoss_client.indices.create(index_name, body=index_body)\n",
    "    print(create_response)\n",
    "else:\n",
    "    print(\"index already exists\")"
   ]
  },
  {
   "cell_type": "code",
   "execution_count": 13,
   "metadata": {},
   "outputs": [
    {
     "name": "stderr",
     "output_type": "stream",
     "text": [
      "2024-05-28 21:08:34,749 - opensearch - GET https://af2ehh1ncpwbbkxhvb0b.us-east-1.aoss.amazonaws.com:443/movies-index/_mapping [status:200 request:0.313s]\n"
     ]
    },
    {
     "name": "stdout",
     "output_type": "stream",
     "text": [
      "{'movies-index': {'mappings': {'properties': {'actors': {'type': 'text'},\n",
      "                                              'description': {'type': 'text'},\n",
      "                                              'director': {'type': 'text'},\n",
      "                                              'genres': {'type': 'text'},\n",
      "                                              'keywords': {'type': 'text'},\n",
      "                                              'original_language': {'type': 'text'},\n",
      "                                              'original_title': {'type': 'text'},\n",
      "                                              'popularity': {'type': 'float'},\n",
      "                                              'popularity_bins': {'type': 'text'},\n",
      "                                              'tmdb_id': {'type': 'integer'},\n",
      "                                              'vector_index': {'dimension': 1024,\n",
      "                                                               'method': {'engine': 'nmslib',\n",
      "                                                                          'name': 'hnsw',\n",
      "                                                                          'parameters': {'ef_construction': 512,\n",
      "                                                                                         'm': 16},\n",
      "                                                                          'space_type': 'l2'},\n",
      "                                                               'type': 'knn_vector'},\n",
      "                                              'vote_average': {'type': 'float'},\n",
      "                                              'vote_average_bins': {'type': 'text'},\n",
      "                                              'year': {'type': 'integer'}}}}}\n"
     ]
    },
    {
     "name": "stderr",
     "output_type": "stream",
     "text": [
      "2024-05-28 21:08:35,065 - opensearch - GET https://af2ehh1ncpwbbkxhvb0b.us-east-1.aoss.amazonaws.com:443/movies-index/_settings [status:200 request:0.314s]\n"
     ]
    },
    {
     "name": "stdout",
     "output_type": "stream",
     "text": [
      "{'movies-index': {'settings': {'index': {'knn': 'true',\n",
      "                                         'knn.algo_param': {'ef_search': '100'},\n",
      "                                         'number_of_replicas': '0',\n",
      "                                         'number_of_shards': '2',\n",
      "                                         'provided_name': 'movies-index',\n",
      "                                         'uuid': 'k1Hjvo8B6eI0KOcnOA59',\n",
      "                                         'version': {'created': '135217827'}}}}}\n"
     ]
    },
    {
     "name": "stderr",
     "output_type": "stream",
     "text": [
      "2024-05-28 21:08:35,398 - opensearch - GET https://af2ehh1ncpwbbkxhvb0b.us-east-1.aoss.amazonaws.com:443/movies-index/_alias [status:200 request:0.329s]\n"
     ]
    },
    {
     "name": "stdout",
     "output_type": "stream",
     "text": [
      "{'movies-index': {'aliases': {}}}\n"
     ]
    }
   ],
   "source": [
    "#display information on the index you just created\n",
    "\n",
    "# Get index mapping\n",
    "response = aoss_client.indices.get_mapping(index=index_name)\n",
    "pp.pprint(response) \n",
    "\n",
    "# Get index settings\n",
    "response = aoss_client.indices.get_settings(index=index_name)\n",
    "pp.pprint(response)\n",
    "\n",
    "# Get index aliases\n",
    "response = aoss_client.indices.get_alias(index=index_name) \n",
    "pp.pprint(response)"
   ]
  },
  {
   "cell_type": "markdown",
   "metadata": {},
   "source": [
    "## Create embeddings from CSV file"
   ]
  },
  {
   "cell_type": "code",
   "execution_count": 14,
   "metadata": {},
   "outputs": [],
   "source": [
    "#small dataset with 1000 movies\n",
    "movies_data_path = \"../dataset/movies_metadata_small.csv\"\n",
    "\n",
    "#full dataset with 45K movies\n",
    "#movies_data_path = \"../dataset/movies_metadata_45K.csv\""
   ]
  },
  {
   "cell_type": "code",
   "execution_count": 15,
   "metadata": {},
   "outputs": [],
   "source": [
    "#get bedrock instances with boto3\n",
    "bedrock = boto3.client('bedrock')\n",
    "bedrock_client = boto3.client('bedrock-runtime')"
   ]
  },
  {
   "cell_type": "code",
   "execution_count": 16,
   "metadata": {},
   "outputs": [
    {
     "name": "stdout",
     "output_type": "stream",
     "text": [
      "Folder already exists, deleting contents\n",
      "Recreating folder\n"
     ]
    }
   ],
   "source": [
    "#local folder where embeddings will be generated\n",
    "embeddings_folder_path = \"../tmp/embeddings\"\n",
    "\n",
    "if os.path.exists(embeddings_folder_path):\n",
    "  print(\"Folder already exists, deleting contents\")\n",
    "  for filename in os.listdir(embeddings_folder_path):\n",
    "    file_path = os.path.join(embeddings_folder_path, filename)\n",
    "    if os.path.isfile(file_path) or os.path.islink(file_path):\n",
    "        os.unlink(file_path)\n",
    "    elif os.path.isdir(file_path):\n",
    "        shutil.rmtree(file_path)\n",
    "  os.rmdir(embeddings_folder_path)\n",
    "\n",
    "print(\"Recreating folder\")  \n",
    "os.makedirs(embeddings_folder_path)"
   ]
  },
  {
   "cell_type": "markdown",
   "metadata": {},
   "source": [
    "We're now ready to generate the embeddings. expect it to take around 20min"
   ]
  },
  {
   "cell_type": "code",
   "execution_count": 17,
   "metadata": {},
   "outputs": [
    {
     "name": "stdout",
     "output_type": "stream",
     "text": [
      "writing file\n",
      "Processed 100 records and saved to ../tmp/embeddings/embeddings_block1.json\n",
      "writing file\n",
      "Processed 100 records and saved to ../tmp/embeddings/embeddings_block2.json\n"
     ]
    }
   ],
   "source": [
    "# Limit the number of records to process in each block\n",
    "block_size = 100\n",
    "\n",
    "with open(movies_data_path) as csv_file:\n",
    "    csv_reader = csv.reader(csv_file, delimiter=',')\n",
    "    \n",
    "    #get header\n",
    "    header = next(csv_reader)\n",
    "    \n",
    "    #counter for line in csv file\n",
    "    line_num = 1\n",
    "\n",
    "    #document buffer\n",
    "    documents = []\n",
    "\n",
    "    for row in csv_reader:\n",
    "\n",
    "        #create dict with title's metadata using the header and the row values\n",
    "        title_metadata = dict()\n",
    "        for col in header:\n",
    "            title_metadata[col] = row[header.index(col)]\n",
    "\n",
    "        #generate embedding with Bedrock\n",
    "        vector_embedding = llm_utils.get_embeddings_from_text(json.dumps(title_metadata), \"cohere\", input_type=\"search_document\")\n",
    "\n",
    "        #merge vector and metadata\n",
    "        request_body_dict = dict()\n",
    "        request_body_dict['id'] = line_num\n",
    "        request_body_dict['vector_index'] = vector_embedding\n",
    "        request_body_dict = request_body_dict | title_metadata\n",
    "        \n",
    "        #dict to json string\n",
    "        request_body = json.dumps(request_body_dict)\n",
    "\n",
    "        #add to documents\n",
    "        documents.append(request_body)\n",
    "\n",
    "        #write down the json file every line_num\n",
    "        if line_num > 0 and line_num % block_size == 0:\n",
    "            print('writing file')\n",
    "            block_num = line_num // block_size\n",
    "            output_file_path = f\"{embeddings_folder_path}/embeddings_block{block_num}.json\"\n",
    "            with open(output_file_path, 'w') as output_file:\n",
    "                json.dump(documents, output_file, indent=2)\n",
    "                print(f\"Processed {len(documents)} records and saved to {output_file_path}\")\n",
    "                #reset documents buffer\n",
    "                documents = []\n",
    "\n",
    "        line_num += 1\n",
    "\n",
    "    if documents:\n",
    "        # Write the remaining documents to a file\n",
    "        output_file_path = f\"{embeddings_folder_path}/embeddings_block{block_num + 1}.json\"\n",
    "        with open(output_file_path, 'w') as output_file:\n",
    "            json.dump(documents, output_file, indent=2)\n",
    "\n",
    "        print(f\"Processed {len(documents)} records and saved to {output_file_path}\")"
   ]
  },
  {
   "cell_type": "markdown",
   "metadata": {},
   "source": [
    "## Load embeddings in index"
   ]
  },
  {
   "cell_type": "code",
   "execution_count": 18,
   "metadata": {},
   "outputs": [],
   "source": [
    "#format the data to match format expected by opensearch bulk ingest\n",
    "def format_data_for_bulk_import(data):\n",
    "    actions = []\n",
    "    for doc in data:\n",
    "        #str to dict\n",
    "        doc_dict = json.loads(doc)\n",
    "\n",
    "        #building the json format required for bulk index\n",
    "        actions.append({\n",
    "            \"_op_type\": \"index\",\n",
    "            \"_index\": index_name,\n",
    "            #\"_id\": doc_dict['id'],  #not allowed for index operation\n",
    "            \"_source\": {\n",
    "                \"vector_index\": doc_dict[\"vector_index\"],\n",
    "                \"tmdb_id\" : doc_dict['tmdb_id'],\n",
    "                \"original_language\" : doc_dict['original_language'],\n",
    "                \"original_title\" : doc_dict['original_title'],\n",
    "                \"description\" : doc_dict['description'],\n",
    "                \"genres\" : doc_dict['genres'],\n",
    "                \"year\" : doc_dict['year'],\n",
    "                \"keywords\" : doc_dict['keywords'],\n",
    "                \"director\" : doc_dict['director'],\n",
    "                \"actors\" : doc_dict['actors'],\n",
    "                \"popularity\" : doc_dict['popularity'],\n",
    "                \"popularity_bins\" : doc_dict['popularity_bins'],\n",
    "                \"vote_average\" : doc_dict['vote_average'],\n",
    "                \"vote_average_bins\" : doc_dict['vote_average_bins']\n",
    "            }\n",
    "        })\n",
    "    return actions"
   ]
  },
  {
   "cell_type": "code",
   "execution_count": 19,
   "metadata": {},
   "outputs": [
    {
     "name": "stdout",
     "output_type": "stream",
     "text": [
      "Indexing embeddings_block2.json\n"
     ]
    },
    {
     "name": "stderr",
     "output_type": "stream",
     "text": [
      "2024-05-28 21:13:15,398 - opensearch - POST https://af2ehh1ncpwbbkxhvb0b.us-east-1.aoss.amazonaws.com:443/movies-index/_bulk [status:200 request:4.983s]\n"
     ]
    },
    {
     "name": "stdout",
     "output_type": "stream",
     "text": [
      "Indexed 100 documents successfully, [] documents failed for file: embeddings_block2.json\n",
      "Indexing embeddings_block1.json\n"
     ]
    },
    {
     "name": "stderr",
     "output_type": "stream",
     "text": [
      "2024-05-28 21:13:17,501 - opensearch - POST https://af2ehh1ncpwbbkxhvb0b.us-east-1.aoss.amazonaws.com:443/movies-index/_bulk [status:200 request:2.047s]\n"
     ]
    },
    {
     "name": "stdout",
     "output_type": "stream",
     "text": [
      "Indexed 100 documents successfully, [] documents failed for file: embeddings_block1.json\n"
     ]
    }
   ],
   "source": [
    "from opensearchpy.helpers import bulk\n",
    "\n",
    "#reconnect to avoid potential timeout of the session\n",
    "aoss_client = llm_utils.connect_to_aoss(auth, os_host)\n",
    "\n",
    "# Iterate through each JSON file\n",
    "for filename in os.listdir(embeddings_folder_path):\n",
    "    \n",
    "    file_path = os.path.join(embeddings_folder_path, filename)\n",
    "\n",
    "    # Load JSON file\n",
    "    with open(file_path, \"r\") as file:\n",
    "        data = json.load(file)\n",
    "\n",
    "        #format data into actions\n",
    "        actions = format_data_for_bulk_import(data)\n",
    "\n",
    "        print(f\"Indexing {filename}\")\n",
    "\n",
    "        # Use the bulk API to insert documents from the file\n",
    "        success, failed = bulk(\n",
    "            aoss_client,\n",
    "            actions,\n",
    "            index=index_name, \n",
    "            raise_on_exception=True\n",
    "        )\n",
    "\n",
    "    print(f\"Indexed {success} documents successfully, {failed} documents failed for file: {filename}\")"
   ]
  },
  {
   "cell_type": "code",
   "execution_count": 20,
   "metadata": {},
   "outputs": [
    {
     "name": "stderr",
     "output_type": "stream",
     "text": [
      "2024-05-28 21:14:24,355 - opensearch - POST https://af2ehh1ncpwbbkxhvb0b.us-east-1.aoss.amazonaws.com:443/movies-index/_count [status:200 request:0.597s]\n"
     ]
    },
    {
     "name": "stdout",
     "output_type": "stream",
     "text": [
      "number of docs in index:{'count': 200, '_shards': {'total': 0, 'successful': 0, 'skipped': 0, 'failed': 0}}\n"
     ]
    }
   ],
   "source": [
    "#checking how many document we have in the index (might need a refresh. you should see 1000 if you've indexed the small dataset)\n",
    "time.sleep(30)\n",
    "print(f\"number of docs in index:{aoss_client.count(index=index_name)}\")"
   ]
  },
  {
   "cell_type": "markdown",
   "metadata": {},
   "source": [
    "## Search the index"
   ]
  },
  {
   "cell_type": "markdown",
   "metadata": {},
   "source": [
    "### Using vector embeddings and KNN"
   ]
  },
  {
   "cell_type": "code",
   "execution_count": 21,
   "metadata": {},
   "outputs": [
    {
     "name": "stderr",
     "output_type": "stream",
     "text": [
      "2024-05-28 21:14:34,720 - opensearch - POST https://af2ehh1ncpwbbkxhvb0b.us-east-1.aoss.amazonaws.com:443/movies-index/_search [status:200 request:2.215s]\n"
     ]
    }
   ],
   "source": [
    "#example question\n",
    "question = \"list horror movies that take place in nature\"\n",
    "\n",
    "#we generate the vectorised version of the question\n",
    "question_embedding = llm_utils.get_embeddings_from_text(question, \"cohere\", input_type=\"search_query\")\n",
    "\n",
    "#number of documents to retrieve\n",
    "k = 5\n",
    "\n",
    "query = {\n",
    "    \"size\": k,\n",
    "    \"query\": {\n",
    "        \"knn\": {\n",
    "        \"vector_index\": {\n",
    "            \"vector\": question_embedding,\n",
    "            \"k\": k\n",
    "        }\n",
    "        }\n",
    "    },\n",
    "    \"_source\": data_columns\n",
    "}\n",
    "\n",
    "search_response = aoss_client.search(body=query, index=index_name)"
   ]
  },
  {
   "cell_type": "code",
   "execution_count": 22,
   "metadata": {},
   "outputs": [
    {
     "data": {
      "text/plain": [
       "[{'tmdb_id': '281957',\n",
       "  'original_language': 'en',\n",
       "  'original_title': 'The Revenant',\n",
       "  'keywords': 'father son relationship,rape,based on novel,mountain,winter,grizzly bear,wilderness,frontier,revenge,murder,native american,survival,bear,snow,violence,animal death,bear attack,death of son,based on true events,fur trapper',\n",
       "  'year': '2015',\n",
       "  'director': 'Alejandro González Iñárritu',\n",
       "  'description': 'In the 1820s, a frontiersman, Hugh Glass, sets out on a path of vengeance against those who left him for dead after a bear mauling.',\n",
       "  'popularity_bins': 'Very High',\n",
       "  'actors': 'Leonardo DiCaprio,Tom Hardy,Will Poulter',\n",
       "  'genres': 'Western,Drama,Adventure,Thriller',\n",
       "  'popularity': '23.5',\n",
       "  'vote_average': '7.3',\n",
       "  'vote_average_bins': 'Very High'},\n",
       " {'tmdb_id': '129',\n",
       "  'original_language': 'ja',\n",
       "  'original_title': '千と千尋の神隠し',\n",
       "  'keywords': 'witch,parent child relationship,magic,darkness,bath house,ghost world,parallel world,amusement park,youkai,japanese mythology,anime,spirits',\n",
       "  'year': '2001',\n",
       "  'director': 'Hayao Miyazaki',\n",
       "  'description': 'A ten year old girl who wanders away from her parents along a path that leads to a world ruled by strange and unusual monster-like animals. Her parents have been changed into pigs along with others inside a bathhouse full of these creatures. Will she ever see the world how it once was?',\n",
       "  'popularity_bins': 'Very High',\n",
       "  'actors': 'Rumi Hiiragi,Miyu Irino,Mari Natsuki',\n",
       "  'genres': 'Fantasy,Adventure,Animation,Family',\n",
       "  'popularity': '41.0',\n",
       "  'vote_average': '8.3',\n",
       "  'vote_average_bins': 'Very High'},\n",
       " {'tmdb_id': '15206',\n",
       "  'original_language': 'it',\n",
       "  'original_title': 'La terza madre',\n",
       "  'keywords': 'rome,coffin,sacrifice,urn,cult,paranormal,witches',\n",
       "  'year': '2007',\n",
       "  'director': 'Dario Argento',\n",
       "  'description': 'An ancient urn is found in a cemetery outside Rome. Once opened, it triggers a series of violent incidents: robberies, rapes and murders increase dramatically, while several mysterious, evil-looking young women coming from all over the world are gathering in the city. All these events are caused by the return of Mater Lacrimarum, the last of three powerful witches who have been spreading terror and death for centuries. Alone against an army of psychos and demons, Sarah Mandy, an art student who seems to have supernatural abilities of her own, is the only person left to prevent the Mother of Tears from destroying Rome.',\n",
       "  'popularity_bins': 'Very High',\n",
       "  'actors': 'Asia Argento,Cristian Solimeno,Adam James',\n",
       "  'genres': 'Horror',\n",
       "  'popularity': '34.1',\n",
       "  'vote_average': '4.1',\n",
       "  'vote_average_bins': 'Very Low'},\n",
       " {'tmdb_id': '176',\n",
       "  'original_language': 'en',\n",
       "  'original_title': 'Saw',\n",
       "  'keywords': 'shotgun,based on short film,sadist,pistol,chained,bludgeoning,game of death',\n",
       "  'year': '2004',\n",
       "  'director': 'James Wan',\n",
       "  'description': 'Obsessed with teaching his victims the value of life, a deranged, sadistic serial killer abducts the morally wayward. Once captured, they must face impossible choices in a horrific game of survival. The victims must fight to win their lives back, or die trying...',\n",
       "  'popularity_bins': 'Very High',\n",
       "  'actors': 'Cary Elwes,Danny Glover,Monica Potter',\n",
       "  'genres': 'Horror,Mystery,Crime',\n",
       "  'popularity': '23.5',\n",
       "  'vote_average': '7.2',\n",
       "  'vote_average_bins': 'Very High'},\n",
       " {'tmdb_id': '403119',\n",
       "  'original_language': 'en',\n",
       "  'original_title': '47 Meters Down',\n",
       "  'keywords': 'diving,sister sister relationship,shark attack,cage,shark,trapped underwater\\xa0',\n",
       "  'year': '2017',\n",
       "  'director': 'Johannes Roberts',\n",
       "  'description': 'Two sisters on Mexican vacation are trapped in a shark observation cage at the bottom of the ocean, with oxygen running low and great whites circling nearby, they have less than an hour of air left to figure out how to get to the surface.',\n",
       "  'popularity_bins': 'Very High',\n",
       "  'actors': 'Claire Holt,Mandy Moore,Chris Johnson',\n",
       "  'genres': 'Drama,Thriller,Horror,Adventure',\n",
       "  'popularity': '52.9',\n",
       "  'vote_average': '5.1',\n",
       "  'vote_average_bins': 'Low'}]"
      ]
     },
     "execution_count": 22,
     "metadata": {},
     "output_type": "execute_result"
    }
   ],
   "source": [
    "#extract object from os response\n",
    "response = llm_utils.extract_response_from_os_response(search_response)\n",
    "response"
   ]
  },
  {
   "cell_type": "markdown",
   "metadata": {},
   "source": [
    "### Using the normal opensearch index (and not the embeddings)"
   ]
  },
  {
   "cell_type": "code",
   "execution_count": 23,
   "metadata": {},
   "outputs": [
    {
     "name": "stderr",
     "output_type": "stream",
     "text": [
      "2024-05-28 21:14:47,490 - opensearch - POST https://af2ehh1ncpwbbkxhvb0b.us-east-1.aoss.amazonaws.com:443/movies-index/_search [status:200 request:0.633s]\n"
     ]
    }
   ],
   "source": [
    "query = {\n",
    "    \"query\": {\n",
    "        \"bool\": {\n",
    "            \"must\": [\n",
    "                {\n",
    "                    \"match\": {\n",
    "                        \"original_title\": \"deadpool\"\n",
    "                    }\n",
    "                },\n",
    "                {\n",
    "                    \"match_phrase\": {\n",
    "                        \"actors\": \"Ryan Reynolds\"\n",
    "                    }\n",
    "                }\n",
    "            ]\n",
    "        }\n",
    "    },\n",
    "    \"size\": 10,\n",
    "    \"sort\": [\n",
    "        {\n",
    "            \"popularity\": {\n",
    "                \"order\": \"desc\"\n",
    "            }\n",
    "        }\n",
    "    ]\n",
    "}\n",
    "\n",
    "search_response = aoss_client.search(body=query, index=index_name)\n"
   ]
  },
  {
   "cell_type": "code",
   "execution_count": 24,
   "metadata": {},
   "outputs": [
    {
     "data": {
      "text/plain": [
       "[{'tmdb_id': '293660',\n",
       "  'original_language': 'en',\n",
       "  'original_title': 'Deadpool',\n",
       "  'description': 'Deadpool tells the origin story of former Special Forces operative turned mercenary Wade Wilson, who after being subjected to a rogue experiment that leaves him with accelerated healing powers, adopts the alter ego Deadpool. Armed with his new abilities and a dark, twisted sense of humor, Deadpool hunts down the man who nearly destroyed his life.',\n",
       "  'genres': 'Action,Adventure,Comedy',\n",
       "  'year': '2016',\n",
       "  'keywords': 'anti hero,mercenary,marvel comic,superhero,based on comic,breaking the fourth wall,aftercreditsstinger,duringcreditsstinger,self healing',\n",
       "  'director': 'Tim Miller',\n",
       "  'actors': 'Ryan Reynolds,Morena Baccarin,Ed Skrein',\n",
       "  'popularity': '187.9',\n",
       "  'popularity_bins': 'Very High',\n",
       "  'vote_average': '7.4',\n",
       "  'vote_average_bins': 'Very High'}]"
      ]
     },
     "execution_count": 24,
     "metadata": {},
     "output_type": "execute_result"
    }
   ],
   "source": [
    "response = llm_utils.extract_response_from_os_response(search_response)\n",
    "#removing the vector_index as we are not using it in that scenario\n",
    "if len(response) > 0:\n",
    "    response[0].pop(\"vector_index\")\n",
    "\n",
    "response"
   ]
  },
  {
   "cell_type": "code",
   "execution_count": 25,
   "metadata": {},
   "outputs": [
    {
     "name": "stdout",
     "output_type": "stream",
     "text": [
      "Stored 'index_name' (str)\n",
      "Stored 'os_host' (str)\n",
      "Stored 'collection_name' (str)\n"
     ]
    }
   ],
   "source": [
    "%store index_name\n",
    "%store os_host\n",
    "%store collection_name"
   ]
  },
  {
   "cell_type": "code",
   "execution_count": null,
   "metadata": {},
   "outputs": [],
   "source": []
  }
 ],
 "metadata": {
  "kernelspec": {
   "display_name": "local_dev",
   "language": "python",
   "name": "python3"
  },
  "language_info": {
   "codemirror_mode": {
    "name": "ipython",
    "version": 3
   },
   "file_extension": ".py",
   "mimetype": "text/x-python",
   "name": "python",
   "nbconvert_exporter": "python",
   "pygments_lexer": "ipython3",
   "version": "3.11.5"
  }
 },
 "nbformat": 4,
 "nbformat_minor": 2
}
