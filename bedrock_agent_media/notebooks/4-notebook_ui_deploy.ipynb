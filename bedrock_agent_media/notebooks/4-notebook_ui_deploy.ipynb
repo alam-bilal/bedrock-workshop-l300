{
 "cells": [
  {
   "cell_type": "code",
   "execution_count": 1,
   "metadata": {},
   "outputs": [
    {
     "name": "stdout",
     "output_type": "stream",
     "text": [
      "  adding: utils/ (stored 0%)\n",
      "  adding: utils/__pycache__/ (stored 0%)\n",
      "  adding: utils/__pycache__/llm_utils.cpython-311.pyc (deflated 55%)\n",
      "  adding: utils/llm_utils.py (deflated 76%)\n"
     ]
    }
   ],
   "source": [
    "#packaging the lambda function that will be used to call the Agent and integrated with API Gateway and the UI.\n",
    "#create package folder \n",
    "!cd ../lib/src/lambda/agent_call && mkdir package\n",
    "\n",
    "#copy llm_utils into package\n",
    "!cp -R ../lib/src/utils ../lib/src/lambda/agent_call/package/\n",
    "\n",
    "#zip the lambda .py file and the package folder\n",
    "!cd ../lib/src/lambda/agent_call/package && zip -r ../agent_call_lambda_deployment_package.zip ."
   ]
  },
  {
   "cell_type": "code",
   "execution_count": null,
   "metadata": {},
   "outputs": [],
   "source": []
  }
 ],
 "metadata": {
  "kernelspec": {
   "display_name": "local_dev2",
   "language": "python",
   "name": "python3"
  },
  "language_info": {
   "codemirror_mode": {
    "name": "ipython",
    "version": 3
   },
   "file_extension": ".py",
   "mimetype": "text/x-python",
   "name": "python",
   "nbconvert_exporter": "python",
   "pygments_lexer": "ipython3",
   "version": "3.11.5"
  }
 },
 "nbformat": 4,
 "nbformat_minor": 2
}
