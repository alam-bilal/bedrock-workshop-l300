{
 "cells": [
  {
   "cell_type": "code",
   "execution_count": 23,
   "metadata": {},
   "outputs": [],
   "source": [
    "#make sure to run pip install requirements.txt to install libraries\n",
    "!pip install -r requirements.txt --quiet"
   ]
  },
  {
   "cell_type": "markdown",
   "metadata": {},
   "source": [
    "# Data sourcing\n",
    "\n",
    "The dataset we're using for that example is \"The Movies Dataset\".\n",
    "It contains metadata on over 45,000 movies. 26 million ratings from over 270,000 users and can be downloaded here:\n",
    "https://www.kaggle.com/datasets/rounakbanik/the-movies-dataset\n",
    "\n",
    "The dataset has a \"CC0: Public Domain\" license\n",
    "https://creativecommons.org/publicdomain/zero/1.0/\n"
   ]
  },
  {
   "cell_type": "markdown",
   "metadata": {},
   "source": [
    "## Download and extract the dataset\n",
    "\n",
    "IMPORTANT: Note that you will need to authenticate in kaggle to download the file manually. \n",
    "https://www.kaggle.com/datasets/rounakbanik/the-movies-dataset\n",
    "\n",
    "\n",
    "Then, copy the file into the \"dataset\" folder."
   ]
  },
  {
   "cell_type": "code",
   "execution_count": 24,
   "metadata": {},
   "outputs": [],
   "source": [
    "import zipfile\n",
    "import pandas as pd\n",
    "pd.set_option('display.max_rows', None) \n",
    "pd.set_option('display.max_columns', None) "
   ]
  },
  {
   "cell_type": "code",
   "execution_count": 25,
   "metadata": {},
   "outputs": [],
   "source": [
    "dataset_path = \"../dataset\"\n",
    "zip_file = f'{dataset_path}/data.zip'"
   ]
  },
  {
   "cell_type": "code",
   "execution_count": 26,
   "metadata": {},
   "outputs": [],
   "source": [
    "with zipfile.ZipFile(zip_file) as zf:\n",
    "   zf.extractall(dataset_path)"
   ]
  },
  {
   "cell_type": "code",
   "execution_count": 27,
   "metadata": {},
   "outputs": [
    {
     "name": "stderr",
     "output_type": "stream",
     "text": [
      "/var/folders/mz/xzlrn3qx46g4g2v49620tgym0000gr/T/ipykernel_70187/3234850333.py:6: DtypeWarning: Columns (10) have mixed types. Specify dtype option on import or set low_memory=False.\n",
      "  movies_metadata_df = pd.read_csv('../dataset/movies_metadata.csv')\n"
     ]
    }
   ],
   "source": [
    "#open files as dataframes\n",
    "credits_df = pd.read_csv('../dataset/credits.csv')\n",
    "keywords_df = pd.read_csv('../dataset/keywords.csv')\n",
    "links_small_df = pd.read_csv('../dataset/links_small.csv')\n",
    "links_df = pd.read_csv('../dataset/links.csv')\n",
    "movies_metadata_df = pd.read_csv('../dataset/movies_metadata.csv')\n",
    "ratings_small_df = pd.read_csv('../dataset/ratings_small.csv')\n",
    "ratings_df = pd.read_csv('../dataset/ratings.csv')"
   ]
  },
  {
   "cell_type": "code",
   "execution_count": 28,
   "metadata": {},
   "outputs": [
    {
     "name": "stdout",
     "output_type": "stream",
     "text": [
      "(45466, 24)\n",
      "(45460, 24)\n"
     ]
    }
   ],
   "source": [
    "#Popularity Columns (10) have mixed types, removing rows with popularity \n",
    "print(movies_metadata_df.shape)\n",
    "\n",
    "movies_metadata_df[\"popularity\"] = pd.to_numeric(movies_metadata_df[\"popularity\"], errors=\"coerce\")\n",
    "movies_metadata_df = movies_metadata_df.dropna(subset=[\"popularity\"])\n",
    "\n",
    "print(movies_metadata_df.shape)"
   ]
  },
  {
   "cell_type": "code",
   "execution_count": 29,
   "metadata": {},
   "outputs": [
    {
     "data": {
      "text/html": [
       "<div>\n",
       "<style scoped>\n",
       "    .dataframe tbody tr th:only-of-type {\n",
       "        vertical-align: middle;\n",
       "    }\n",
       "\n",
       "    .dataframe tbody tr th {\n",
       "        vertical-align: top;\n",
       "    }\n",
       "\n",
       "    .dataframe thead th {\n",
       "        text-align: right;\n",
       "    }\n",
       "</style>\n",
       "<table border=\"1\" class=\"dataframe\">\n",
       "  <thead>\n",
       "    <tr style=\"text-align: right;\">\n",
       "      <th></th>\n",
       "      <th>adult</th>\n",
       "      <th>belongs_to_collection</th>\n",
       "      <th>budget</th>\n",
       "      <th>genres</th>\n",
       "      <th>homepage</th>\n",
       "      <th>id</th>\n",
       "      <th>imdb_id</th>\n",
       "      <th>original_language</th>\n",
       "      <th>original_title</th>\n",
       "      <th>overview</th>\n",
       "      <th>popularity</th>\n",
       "      <th>poster_path</th>\n",
       "      <th>production_companies</th>\n",
       "      <th>production_countries</th>\n",
       "      <th>release_date</th>\n",
       "      <th>revenue</th>\n",
       "      <th>runtime</th>\n",
       "      <th>spoken_languages</th>\n",
       "      <th>status</th>\n",
       "      <th>tagline</th>\n",
       "      <th>title</th>\n",
       "      <th>video</th>\n",
       "      <th>vote_average</th>\n",
       "      <th>vote_count</th>\n",
       "    </tr>\n",
       "  </thead>\n",
       "  <tbody>\n",
       "    <tr>\n",
       "      <th>0</th>\n",
       "      <td>False</td>\n",
       "      <td>{'id': 10194, 'name': 'Toy Story Collection', ...</td>\n",
       "      <td>30000000</td>\n",
       "      <td>[{'id': 16, 'name': 'Animation'}, {'id': 35, '...</td>\n",
       "      <td>http://toystory.disney.com/toy-story</td>\n",
       "      <td>862</td>\n",
       "      <td>tt0114709</td>\n",
       "      <td>en</td>\n",
       "      <td>Toy Story</td>\n",
       "      <td>Led by Woody, Andy's toys live happily in his ...</td>\n",
       "      <td>21.946943</td>\n",
       "      <td>/rhIRbceoE9lR4veEXuwCC2wARtG.jpg</td>\n",
       "      <td>[{'name': 'Pixar Animation Studios', 'id': 3}]</td>\n",
       "      <td>[{'iso_3166_1': 'US', 'name': 'United States o...</td>\n",
       "      <td>1995-10-30</td>\n",
       "      <td>373554033.0</td>\n",
       "      <td>81.0</td>\n",
       "      <td>[{'iso_639_1': 'en', 'name': 'English'}]</td>\n",
       "      <td>Released</td>\n",
       "      <td>NaN</td>\n",
       "      <td>Toy Story</td>\n",
       "      <td>False</td>\n",
       "      <td>7.7</td>\n",
       "      <td>5415.0</td>\n",
       "    </tr>\n",
       "    <tr>\n",
       "      <th>1</th>\n",
       "      <td>False</td>\n",
       "      <td>NaN</td>\n",
       "      <td>65000000</td>\n",
       "      <td>[{'id': 12, 'name': 'Adventure'}, {'id': 14, '...</td>\n",
       "      <td>NaN</td>\n",
       "      <td>8844</td>\n",
       "      <td>tt0113497</td>\n",
       "      <td>en</td>\n",
       "      <td>Jumanji</td>\n",
       "      <td>When siblings Judy and Peter discover an encha...</td>\n",
       "      <td>17.015539</td>\n",
       "      <td>/vzmL6fP7aPKNKPRTFnZmiUfciyV.jpg</td>\n",
       "      <td>[{'name': 'TriStar Pictures', 'id': 559}, {'na...</td>\n",
       "      <td>[{'iso_3166_1': 'US', 'name': 'United States o...</td>\n",
       "      <td>1995-12-15</td>\n",
       "      <td>262797249.0</td>\n",
       "      <td>104.0</td>\n",
       "      <td>[{'iso_639_1': 'en', 'name': 'English'}, {'iso...</td>\n",
       "      <td>Released</td>\n",
       "      <td>Roll the dice and unleash the excitement!</td>\n",
       "      <td>Jumanji</td>\n",
       "      <td>False</td>\n",
       "      <td>6.9</td>\n",
       "      <td>2413.0</td>\n",
       "    </tr>\n",
       "  </tbody>\n",
       "</table>\n",
       "</div>"
      ],
      "text/plain": [
       "   adult                              belongs_to_collection    budget  \\\n",
       "0  False  {'id': 10194, 'name': 'Toy Story Collection', ...  30000000   \n",
       "1  False                                                NaN  65000000   \n",
       "\n",
       "                                              genres  \\\n",
       "0  [{'id': 16, 'name': 'Animation'}, {'id': 35, '...   \n",
       "1  [{'id': 12, 'name': 'Adventure'}, {'id': 14, '...   \n",
       "\n",
       "                               homepage    id    imdb_id original_language  \\\n",
       "0  http://toystory.disney.com/toy-story   862  tt0114709                en   \n",
       "1                                   NaN  8844  tt0113497                en   \n",
       "\n",
       "  original_title                                           overview  \\\n",
       "0      Toy Story  Led by Woody, Andy's toys live happily in his ...   \n",
       "1        Jumanji  When siblings Judy and Peter discover an encha...   \n",
       "\n",
       "   popularity                       poster_path  \\\n",
       "0   21.946943  /rhIRbceoE9lR4veEXuwCC2wARtG.jpg   \n",
       "1   17.015539  /vzmL6fP7aPKNKPRTFnZmiUfciyV.jpg   \n",
       "\n",
       "                                production_companies  \\\n",
       "0     [{'name': 'Pixar Animation Studios', 'id': 3}]   \n",
       "1  [{'name': 'TriStar Pictures', 'id': 559}, {'na...   \n",
       "\n",
       "                                production_countries release_date  \\\n",
       "0  [{'iso_3166_1': 'US', 'name': 'United States o...   1995-10-30   \n",
       "1  [{'iso_3166_1': 'US', 'name': 'United States o...   1995-12-15   \n",
       "\n",
       "       revenue  runtime                                   spoken_languages  \\\n",
       "0  373554033.0     81.0           [{'iso_639_1': 'en', 'name': 'English'}]   \n",
       "1  262797249.0    104.0  [{'iso_639_1': 'en', 'name': 'English'}, {'iso...   \n",
       "\n",
       "     status                                    tagline      title  video  \\\n",
       "0  Released                                        NaN  Toy Story  False   \n",
       "1  Released  Roll the dice and unleash the excitement!    Jumanji  False   \n",
       "\n",
       "   vote_average  vote_count  \n",
       "0           7.7      5415.0  \n",
       "1           6.9      2413.0  "
      ]
     },
     "execution_count": 29,
     "metadata": {},
     "output_type": "execute_result"
    }
   ],
   "source": [
    "movies_metadata_df.head(2)"
   ]
  },
  {
   "cell_type": "markdown",
   "metadata": {},
   "source": [
    "### Adding keywords to the main metadata dataframe"
   ]
  },
  {
   "cell_type": "code",
   "execution_count": 30,
   "metadata": {},
   "outputs": [
    {
     "name": "stdout",
     "output_type": "stream",
     "text": [
      "Exception:single positional indexer is out-of-bounds\n"
     ]
    }
   ],
   "source": [
    "import ast\n",
    "def add_keywords(id):\n",
    "    result = []\n",
    "    try:\n",
    "        keywords = keywords_df.loc[keywords_df['id'] == int(id), \"keywords\"].iloc[0]\n",
    "        list_of_dicts = ast.literal_eval(keywords)\n",
    "        for _dict in list_of_dicts:\n",
    "            result.append(_dict['name'])\n",
    "        return ','.join(result)\n",
    "    except Exception as e:\n",
    "        print(f\"Exception:{e}\")\n",
    "        return \"\"\n",
    "\n",
    "#some rows have data quality issues, expect exceptions to be raised.\n",
    "movies_metadata_df['keywords'] = movies_metadata_df['id'].apply(lambda x: add_keywords(x))"
   ]
  },
  {
   "cell_type": "markdown",
   "metadata": {},
   "source": [
    "### Adding Director column to the main metadata dataframe"
   ]
  },
  {
   "cell_type": "code",
   "execution_count": 31,
   "metadata": {},
   "outputs": [
    {
     "name": "stdout",
     "output_type": "stream",
     "text": [
      "single positional indexer is out-of-bounds\n"
     ]
    }
   ],
   "source": [
    "def add_director(id):\n",
    "    director = ''\n",
    "    try:\n",
    "        crew = credits_df.loc[credits_df['id'] == int(id), \"crew\"].iloc[0]\n",
    "        list_of_dicts = ast.literal_eval(crew)\n",
    "        for _dict in list_of_dicts:\n",
    "            if _dict['job'] == 'Director':\n",
    "                director = _dict['name']\n",
    "                break\n",
    "        return director\n",
    "    except Exception as e:\n",
    "        print(e)\n",
    "        return director\n",
    "    \n",
    "#some rows have data quality issues, expect exceptions to be raised.\n",
    "movies_metadata_df['director'] = movies_metadata_df['id'].apply(lambda x: add_director(x))"
   ]
  },
  {
   "cell_type": "markdown",
   "metadata": {},
   "source": [
    "### Adding Actors to the main metadata dataframe"
   ]
  },
  {
   "cell_type": "code",
   "execution_count": 32,
   "metadata": {},
   "outputs": [
    {
     "name": "stdout",
     "output_type": "stream",
     "text": [
      "single positional indexer is out-of-bounds\n"
     ]
    }
   ],
   "source": [
    "def add_actors(id):\n",
    "    actors = []\n",
    "    try:\n",
    "        cast = credits_df.loc[credits_df['id'] == int(id), \"cast\"].iloc[0]\n",
    "        list_of_dicts = ast.literal_eval(cast)\n",
    "        counter = 0\n",
    "        for _dict in list_of_dicts:\n",
    "            if _dict['order'] in [0,1,2]:\n",
    "                actors.append(_dict['name'])\n",
    "                counter += 1\n",
    "                if counter == 3:\n",
    "                    break\n",
    "        return \",\".join(actors)\n",
    "    except Exception as e:\n",
    "        print(e)\n",
    "        return \"\"\n",
    "\n",
    "#some rows have data quality issues, expect exceptions to be raised.\n",
    "movies_metadata_df['actors'] = movies_metadata_df['id'].apply(lambda x: add_actors(x))"
   ]
  },
  {
   "cell_type": "markdown",
   "metadata": {},
   "source": [
    "### Round up popularity column"
   ]
  },
  {
   "cell_type": "code",
   "execution_count": 33,
   "metadata": {},
   "outputs": [],
   "source": [
    "import math\n",
    "\n",
    "#round value to first decimal\n",
    "def update_popularity(num):\n",
    "  try:\n",
    "    return round(num, 1)\n",
    "  except Exception as e:\n",
    "    return 0\n",
    "\n",
    "movies_metadata_df['popularity'] = movies_metadata_df['popularity'].apply(lambda x: update_popularity(x))\n",
    "\n",
    "#casting as integer\n",
    "movies_metadata_df[\"popularity\"] = movies_metadata_df[\"popularity\"].astype(float)"
   ]
  },
  {
   "cell_type": "markdown",
   "metadata": {},
   "source": [
    "### Add popuplarity bins"
   ]
  },
  {
   "cell_type": "code",
   "execution_count": 34,
   "metadata": {},
   "outputs": [],
   "source": [
    "movies_metadata_df[\"popularity_bins\"] = pd.qcut(movies_metadata_df['popularity'], 5, labels=['Very Low', 'Low', 'Average', 'High', 'Very High'], duplicates='drop')"
   ]
  },
  {
   "cell_type": "markdown",
   "metadata": {},
   "source": [
    "### Add vote_average  bins"
   ]
  },
  {
   "cell_type": "code",
   "execution_count": 35,
   "metadata": {},
   "outputs": [],
   "source": [
    "movies_metadata_df[\"vote_average_bins\"] = pd.qcut(movies_metadata_df['vote_average'], 5, labels=['Very Low', 'Low', 'Average', 'High', 'Very High'], duplicates='drop')"
   ]
  },
  {
   "cell_type": "markdown",
   "metadata": {},
   "source": [
    "### Update genres column"
   ]
  },
  {
   "cell_type": "code",
   "execution_count": 36,
   "metadata": {},
   "outputs": [],
   "source": [
    "def update_genre(json_genre):\n",
    "    genres = []\n",
    "    try:\n",
    "        list_of_dicts = ast.literal_eval(json_genre)\n",
    "        for _dict in list_of_dicts:\n",
    "            genres.append(_dict['name'])\n",
    "        return \",\".join(genres)\n",
    "    except Exception as e:\n",
    "        print(e)\n",
    "        return \"\"\n",
    "\n",
    "movies_metadata_df['genres'] = movies_metadata_df['genres'].apply(lambda x: update_genre(x))"
   ]
  },
  {
   "cell_type": "markdown",
   "metadata": {},
   "source": [
    "### Adding Year to the main metadata dataframe"
   ]
  },
  {
   "cell_type": "code",
   "execution_count": 37,
   "metadata": {},
   "outputs": [],
   "source": [
    "def create_year(x):\n",
    "    try:\n",
    "        #expected format 1995-10-30\n",
    "        return x.split('-')[0]\n",
    "    except Exception as e:\n",
    "        return \"\"\n",
    "\n",
    "movies_metadata_df['year'] = movies_metadata_df['release_date'].apply(lambda x: create_year(x))"
   ]
  },
  {
   "cell_type": "markdown",
   "metadata": {},
   "source": [
    "### Select which columns to export to csv"
   ]
  },
  {
   "cell_type": "code",
   "execution_count": 38,
   "metadata": {},
   "outputs": [
    {
     "name": "stdout",
     "output_type": "stream",
     "text": [
      "Null count in adult: 0\n",
      "Null count in belongs_to_collection: 40970\n",
      "Null count in budget: 0\n",
      "Null count in genres: 0\n",
      "Null count in homepage: 37682\n",
      "Null count in id: 0\n",
      "Null count in imdb_id: 17\n",
      "Null count in original_language: 11\n",
      "Null count in original_title: 0\n",
      "Null count in overview: 954\n",
      "Null count in popularity: 0\n",
      "Null count in poster_path: 383\n",
      "Null count in production_companies: 0\n",
      "Null count in production_countries: 0\n",
      "Null count in release_date: 84\n",
      "Null count in revenue: 0\n",
      "Null count in runtime: 257\n",
      "Null count in spoken_languages: 0\n",
      "Null count in status: 81\n",
      "Null count in tagline: 25048\n",
      "Null count in title: 0\n",
      "Null count in video: 0\n",
      "Null count in vote_average: 0\n",
      "Null count in vote_count: 0\n",
      "Null count in keywords: 0\n",
      "Null count in director: 0\n",
      "Null count in actors: 0\n",
      "Null count in popularity_bins: 0\n",
      "Null count in vote_average_bins: 0\n",
      "Null count in year: 0\n"
     ]
    }
   ],
   "source": [
    "for col in movies_metadata_df.columns:\n",
    "  null_count = movies_metadata_df[col].isnull().sum()\n",
    "  print(f\"Null count in {col}: {null_count}\")"
   ]
  },
  {
   "cell_type": "code",
   "execution_count": 39,
   "metadata": {},
   "outputs": [
    {
     "data": {
      "text/plain": [
       "Index(['adult', 'belongs_to_collection', 'budget', 'genres', 'homepage', 'id',\n",
       "       'imdb_id', 'original_language', 'original_title', 'overview',\n",
       "       'popularity', 'poster_path', 'production_companies',\n",
       "       'production_countries', 'release_date', 'revenue', 'runtime',\n",
       "       'spoken_languages', 'status', 'tagline', 'title', 'video',\n",
       "       'vote_average', 'vote_count', 'keywords', 'director', 'actors',\n",
       "       'popularity_bins', 'vote_average_bins', 'year'],\n",
       "      dtype='object')"
      ]
     },
     "execution_count": 39,
     "metadata": {},
     "output_type": "execute_result"
    }
   ],
   "source": [
    "movies_metadata_df.columns"
   ]
  },
  {
   "cell_type": "code",
   "execution_count": 40,
   "metadata": {},
   "outputs": [],
   "source": [
    "#renaming the id column to tmdb_id\n",
    "movies_metadata_df.rename(columns={'id': 'tmdb_id'}, inplace=True)\n",
    "\n",
    "#renaming the overview column to description\n",
    "movies_metadata_df.rename(columns={'overview': 'description'}, inplace=True)\n",
    "\n",
    "cols_selection = ['tmdb_id', 'original_language', 'original_title', 'description', 'genres', 'year', 'keywords', 'director', 'actors', 'popularity', 'popularity_bins',\n",
    "                  'vote_average', 'vote_average_bins']\n",
    "\n",
    "#full 45K dataset\n",
    "to_export_df_full = movies_metadata_df[cols_selection]"
   ]
  },
  {
   "cell_type": "code",
   "execution_count": 41,
   "metadata": {},
   "outputs": [],
   "source": [
    "#small version for workshop's purpose. we're selection the top 1000 most popular.\n",
    "to_export_df_small = to_export_df_full.sort_values(by=['popularity'], ascending=[False])[:200]"
   ]
  },
  {
   "cell_type": "code",
   "execution_count": 42,
   "metadata": {},
   "outputs": [
    {
     "data": {
      "text/html": [
       "<div>\n",
       "<style scoped>\n",
       "    .dataframe tbody tr th:only-of-type {\n",
       "        vertical-align: middle;\n",
       "    }\n",
       "\n",
       "    .dataframe tbody tr th {\n",
       "        vertical-align: top;\n",
       "    }\n",
       "\n",
       "    .dataframe thead th {\n",
       "        text-align: right;\n",
       "    }\n",
       "</style>\n",
       "<table border=\"1\" class=\"dataframe\">\n",
       "  <thead>\n",
       "    <tr style=\"text-align: right;\">\n",
       "      <th></th>\n",
       "      <th>tmdb_id</th>\n",
       "      <th>original_language</th>\n",
       "      <th>original_title</th>\n",
       "      <th>description</th>\n",
       "      <th>genres</th>\n",
       "      <th>year</th>\n",
       "      <th>keywords</th>\n",
       "      <th>director</th>\n",
       "      <th>actors</th>\n",
       "      <th>popularity</th>\n",
       "      <th>popularity_bins</th>\n",
       "      <th>vote_average</th>\n",
       "      <th>vote_average_bins</th>\n",
       "    </tr>\n",
       "  </thead>\n",
       "  <tbody>\n",
       "    <tr>\n",
       "      <th>30700</th>\n",
       "      <td>211672</td>\n",
       "      <td>en</td>\n",
       "      <td>Minions</td>\n",
       "      <td>Minions Stuart, Kevin and Bob are recruited by...</td>\n",
       "      <td>Family,Animation,Adventure,Comedy</td>\n",
       "      <td>2015</td>\n",
       "      <td>assistant,aftercreditsstinger,duringcreditssti...</td>\n",
       "      <td>Kyle Balda</td>\n",
       "      <td>Sandra Bullock,Jon Hamm,Michael Keaton</td>\n",
       "      <td>547.5</td>\n",
       "      <td>Very High</td>\n",
       "      <td>6.4</td>\n",
       "      <td>High</td>\n",
       "    </tr>\n",
       "    <tr>\n",
       "      <th>33356</th>\n",
       "      <td>297762</td>\n",
       "      <td>en</td>\n",
       "      <td>Wonder Woman</td>\n",
       "      <td>An Amazon princess comes to the world of Man t...</td>\n",
       "      <td>Action,Adventure,Fantasy</td>\n",
       "      <td>2017</td>\n",
       "      <td>dc comics,hero,greek mythology,island,world wa...</td>\n",
       "      <td>Patty Jenkins</td>\n",
       "      <td>Gal Gadot,Chris Pine,Robin Wright</td>\n",
       "      <td>294.3</td>\n",
       "      <td>Very High</td>\n",
       "      <td>7.2</td>\n",
       "      <td>Very High</td>\n",
       "    </tr>\n",
       "    <tr>\n",
       "      <th>42222</th>\n",
       "      <td>321612</td>\n",
       "      <td>en</td>\n",
       "      <td>Beauty and the Beast</td>\n",
       "      <td>A live-action adaptation of Disney's version o...</td>\n",
       "      <td>Family,Fantasy,Romance</td>\n",
       "      <td>2017</td>\n",
       "      <td>france,magic,castle,fairy tale,musical,curse,a...</td>\n",
       "      <td>Bill Condon</td>\n",
       "      <td>Emma Watson,Dan Stevens,Luke Evans</td>\n",
       "      <td>287.3</td>\n",
       "      <td>Very High</td>\n",
       "      <td>6.8</td>\n",
       "      <td>High</td>\n",
       "    </tr>\n",
       "    <tr>\n",
       "      <th>43644</th>\n",
       "      <td>339403</td>\n",
       "      <td>en</td>\n",
       "      <td>Baby Driver</td>\n",
       "      <td>After being coerced into working for a crime b...</td>\n",
       "      <td>Action,Crime</td>\n",
       "      <td>2017</td>\n",
       "      <td>robbery,atlanta,music,crime boss,romance,tinni...</td>\n",
       "      <td>Edgar Wright</td>\n",
       "      <td>Ansel Elgort,Lily James,Kevin Spacey</td>\n",
       "      <td>228.0</td>\n",
       "      <td>Very High</td>\n",
       "      <td>7.2</td>\n",
       "      <td>Very High</td>\n",
       "    </tr>\n",
       "    <tr>\n",
       "      <th>24455</th>\n",
       "      <td>177572</td>\n",
       "      <td>en</td>\n",
       "      <td>Big Hero 6</td>\n",
       "      <td>The special bond that develops between plus-si...</td>\n",
       "      <td>Adventure,Family,Animation,Action,Comedy</td>\n",
       "      <td>2014</td>\n",
       "      <td>brother brother relationship,hero,talent,reven...</td>\n",
       "      <td>Chris Williams</td>\n",
       "      <td>Scott Adsit,Ryan Potter,Daniel Henney</td>\n",
       "      <td>213.8</td>\n",
       "      <td>Very High</td>\n",
       "      <td>7.8</td>\n",
       "      <td>Very High</td>\n",
       "    </tr>\n",
       "    <tr>\n",
       "      <th>26564</th>\n",
       "      <td>293660</td>\n",
       "      <td>en</td>\n",
       "      <td>Deadpool</td>\n",
       "      <td>Deadpool tells the origin story of former Spec...</td>\n",
       "      <td>Action,Adventure,Comedy</td>\n",
       "      <td>2016</td>\n",
       "      <td>anti hero,mercenary,marvel comic,superhero,bas...</td>\n",
       "      <td>Tim Miller</td>\n",
       "      <td>Ryan Reynolds,Morena Baccarin,Ed Skrein</td>\n",
       "      <td>187.9</td>\n",
       "      <td>Very High</td>\n",
       "      <td>7.4</td>\n",
       "      <td>Very High</td>\n",
       "    </tr>\n",
       "    <tr>\n",
       "      <th>26566</th>\n",
       "      <td>283995</td>\n",
       "      <td>en</td>\n",
       "      <td>Guardians of the Galaxy Vol. 2</td>\n",
       "      <td>The Guardians must fight to keep their newfoun...</td>\n",
       "      <td>Action,Adventure,Comedy,Science Fiction</td>\n",
       "      <td>2017</td>\n",
       "      <td>sequel,superhero,based on comic,misfit,space,o...</td>\n",
       "      <td>James Gunn</td>\n",
       "      <td>Chris Pratt,Zoe Saldana,Dave Bautista</td>\n",
       "      <td>185.3</td>\n",
       "      <td>Very High</td>\n",
       "      <td>7.6</td>\n",
       "      <td>Very High</td>\n",
       "    </tr>\n",
       "    <tr>\n",
       "      <th>14551</th>\n",
       "      <td>19995</td>\n",
       "      <td>en</td>\n",
       "      <td>Avatar</td>\n",
       "      <td>In the 22nd century, a paraplegic Marine is di...</td>\n",
       "      <td>Action,Adventure,Fantasy,Science Fiction</td>\n",
       "      <td>2009</td>\n",
       "      <td>culture clash,future,space war,space colony,so...</td>\n",
       "      <td>James Cameron</td>\n",
       "      <td>Sam Worthington,Zoe Saldana,Sigourney Weaver</td>\n",
       "      <td>185.1</td>\n",
       "      <td>Very High</td>\n",
       "      <td>7.2</td>\n",
       "      <td>Very High</td>\n",
       "    </tr>\n",
       "    <tr>\n",
       "      <th>24351</th>\n",
       "      <td>245891</td>\n",
       "      <td>en</td>\n",
       "      <td>John Wick</td>\n",
       "      <td>Ex-lunatic John Wick comes off his meds to tra...</td>\n",
       "      <td>Action,Thriller</td>\n",
       "      <td>2014</td>\n",
       "      <td>hitman,russian mafia,revenge,murder,gangster,d...</td>\n",
       "      <td>Chad Stahelski</td>\n",
       "      <td>Keanu Reeves,Michael Nyqvist,Alfie Allen</td>\n",
       "      <td>183.9</td>\n",
       "      <td>Very High</td>\n",
       "      <td>7.0</td>\n",
       "      <td>High</td>\n",
       "    </tr>\n",
       "    <tr>\n",
       "      <th>23675</th>\n",
       "      <td>210577</td>\n",
       "      <td>en</td>\n",
       "      <td>Gone Girl</td>\n",
       "      <td>With his wife's disappearance having become th...</td>\n",
       "      <td>Mystery,Thriller,Drama</td>\n",
       "      <td>2014</td>\n",
       "      <td>based on novel,marriage crisis,disappearance,c...</td>\n",
       "      <td>David Fincher</td>\n",
       "      <td>Ben Affleck,Rosamund Pike,Carrie Coon</td>\n",
       "      <td>154.8</td>\n",
       "      <td>Very High</td>\n",
       "      <td>7.9</td>\n",
       "      <td>Very High</td>\n",
       "    </tr>\n",
       "  </tbody>\n",
       "</table>\n",
       "</div>"
      ],
      "text/plain": [
       "      tmdb_id original_language                  original_title  \\\n",
       "30700  211672                en                         Minions   \n",
       "33356  297762                en                    Wonder Woman   \n",
       "42222  321612                en            Beauty and the Beast   \n",
       "43644  339403                en                     Baby Driver   \n",
       "24455  177572                en                      Big Hero 6   \n",
       "26564  293660                en                        Deadpool   \n",
       "26566  283995                en  Guardians of the Galaxy Vol. 2   \n",
       "14551   19995                en                          Avatar   \n",
       "24351  245891                en                       John Wick   \n",
       "23675  210577                en                       Gone Girl   \n",
       "\n",
       "                                             description  \\\n",
       "30700  Minions Stuart, Kevin and Bob are recruited by...   \n",
       "33356  An Amazon princess comes to the world of Man t...   \n",
       "42222  A live-action adaptation of Disney's version o...   \n",
       "43644  After being coerced into working for a crime b...   \n",
       "24455  The special bond that develops between plus-si...   \n",
       "26564  Deadpool tells the origin story of former Spec...   \n",
       "26566  The Guardians must fight to keep their newfoun...   \n",
       "14551  In the 22nd century, a paraplegic Marine is di...   \n",
       "24351  Ex-lunatic John Wick comes off his meds to tra...   \n",
       "23675  With his wife's disappearance having become th...   \n",
       "\n",
       "                                         genres  year  \\\n",
       "30700         Family,Animation,Adventure,Comedy  2015   \n",
       "33356                  Action,Adventure,Fantasy  2017   \n",
       "42222                    Family,Fantasy,Romance  2017   \n",
       "43644                              Action,Crime  2017   \n",
       "24455  Adventure,Family,Animation,Action,Comedy  2014   \n",
       "26564                   Action,Adventure,Comedy  2016   \n",
       "26566   Action,Adventure,Comedy,Science Fiction  2017   \n",
       "14551  Action,Adventure,Fantasy,Science Fiction  2009   \n",
       "24351                           Action,Thriller  2014   \n",
       "23675                    Mystery,Thriller,Drama  2014   \n",
       "\n",
       "                                                keywords        director  \\\n",
       "30700  assistant,aftercreditsstinger,duringcreditssti...      Kyle Balda   \n",
       "33356  dc comics,hero,greek mythology,island,world wa...   Patty Jenkins   \n",
       "42222  france,magic,castle,fairy tale,musical,curse,a...     Bill Condon   \n",
       "43644  robbery,atlanta,music,crime boss,romance,tinni...    Edgar Wright   \n",
       "24455  brother brother relationship,hero,talent,reven...  Chris Williams   \n",
       "26564  anti hero,mercenary,marvel comic,superhero,bas...      Tim Miller   \n",
       "26566  sequel,superhero,based on comic,misfit,space,o...      James Gunn   \n",
       "14551  culture clash,future,space war,space colony,so...   James Cameron   \n",
       "24351  hitman,russian mafia,revenge,murder,gangster,d...  Chad Stahelski   \n",
       "23675  based on novel,marriage crisis,disappearance,c...   David Fincher   \n",
       "\n",
       "                                             actors  popularity  \\\n",
       "30700        Sandra Bullock,Jon Hamm,Michael Keaton       547.5   \n",
       "33356             Gal Gadot,Chris Pine,Robin Wright       294.3   \n",
       "42222            Emma Watson,Dan Stevens,Luke Evans       287.3   \n",
       "43644          Ansel Elgort,Lily James,Kevin Spacey       228.0   \n",
       "24455         Scott Adsit,Ryan Potter,Daniel Henney       213.8   \n",
       "26564       Ryan Reynolds,Morena Baccarin,Ed Skrein       187.9   \n",
       "26566         Chris Pratt,Zoe Saldana,Dave Bautista       185.3   \n",
       "14551  Sam Worthington,Zoe Saldana,Sigourney Weaver       185.1   \n",
       "24351      Keanu Reeves,Michael Nyqvist,Alfie Allen       183.9   \n",
       "23675         Ben Affleck,Rosamund Pike,Carrie Coon       154.8   \n",
       "\n",
       "      popularity_bins  vote_average vote_average_bins  \n",
       "30700       Very High           6.4              High  \n",
       "33356       Very High           7.2         Very High  \n",
       "42222       Very High           6.8              High  \n",
       "43644       Very High           7.2         Very High  \n",
       "24455       Very High           7.8         Very High  \n",
       "26564       Very High           7.4         Very High  \n",
       "26566       Very High           7.6         Very High  \n",
       "14551       Very High           7.2         Very High  \n",
       "24351       Very High           7.0              High  \n",
       "23675       Very High           7.9         Very High  "
      ]
     },
     "execution_count": 42,
     "metadata": {},
     "output_type": "execute_result"
    }
   ],
   "source": [
    "to_export_df_small.head(10)"
   ]
  },
  {
   "cell_type": "code",
   "execution_count": 43,
   "metadata": {},
   "outputs": [],
   "source": [
    "#export\n",
    "to_export_df_small.to_csv('../dataset/movies_metadata_small.csv', index=False)\n",
    "to_export_df_full.to_csv('../dataset/movies_metadata_45K.csv', index=False)"
   ]
  }
 ],
 "metadata": {
  "kernelspec": {
   "display_name": "local_dev2",
   "language": "python",
   "name": "python3"
  },
  "language_info": {
   "codemirror_mode": {
    "name": "ipython",
    "version": 3
   },
   "file_extension": ".py",
   "mimetype": "text/x-python",
   "name": "python",
   "nbconvert_exporter": "python",
   "pygments_lexer": "ipython3",
   "version": "3.11.5"
  }
 },
 "nbformat": 4,
 "nbformat_minor": 2
}
